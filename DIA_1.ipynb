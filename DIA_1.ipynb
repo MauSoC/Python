{
  "cells": [
    {
      "cell_type": "markdown",
      "metadata": {
        "id": "view-in-github",
        "colab_type": "text"
      },
      "source": [
        "<a href=\"https://colab.research.google.com/github/MauSoC/Python/blob/master/DIA_1.ipynb\" target=\"_parent\"><img src=\"https://colab.research.google.com/assets/colab-badge.svg\" alt=\"Open In Colab\"/></a>"
      ]
    },
    {
      "cell_type": "code",
      "execution_count": null,
      "id": "013cc209",
      "metadata": {
        "id": "013cc209",
        "outputId": "1cc57949-fc6d-4451-9297-517d2309f625"
      },
      "outputs": [
        {
          "name": "stdout",
          "output_type": "stream",
          "text": [
            "Numeros iguales\n"
          ]
        }
      ],
      "source": [
        "#Ejercicio 1\n",
        "a = [1,1,1]\n",
        "b = a[0]\n",
        "c = a[0]\n",
        "ban = True\n",
        "for numero in a:\n",
        "    if numero != a[0]:\n",
        "        ban = False\n",
        "    if numero > b:\n",
        "        b = numero\n",
        "    elif numero < c :\n",
        "        c = numero\n",
        "\n",
        "if ban:\n",
        "    print('Numeros iguales')\n",
        "\n",
        "else:\n",
        "    print(f'El numero mayor es :{b}, el numero menor es {c}')\n",
        ""
      ]
    },
    {
      "cell_type": "code",
      "execution_count": null,
      "id": "fa7cc608",
      "metadata": {
        "id": "fa7cc608",
        "outputId": "bbde8a94-d3a4-4d0f-d64c-f9f3c432c48f"
      },
      "outputs": [
        {
          "name": "stdout",
          "output_type": "stream",
          "text": [
            "el numero 11 no es multiplo de dos\n"
          ]
        }
      ],
      "source": [
        "#Ejercicio 2\n",
        "numero = 11\n",
        "\n",
        "if numero%2 == 0:\n",
        "    print(f'el numero {numero} es multiplo de dos')\n",
        "else:\n",
        "    print(f'el numero {numero} no es multiplo de dos')"
      ]
    },
    {
      "cell_type": "code",
      "execution_count": null,
      "id": "6744361d",
      "metadata": {
        "id": "6744361d",
        "outputId": "0dcec469-c2dc-4d55-b6d7-626485d83427"
      },
      "outputs": [
        {
          "name": "stdout",
          "output_type": "stream",
          "text": [
            "Ingresa un numero: 1\n",
            "Ingresa un numero: 2\n",
            "Ingresa un numero: 3\n",
            "Ingresa un numero: 4\n",
            "El numero mayor es :4\n"
          ]
        }
      ],
      "source": [
        "#Ejercicio 3\n",
        "numeros = []\n",
        "ban = True\n",
        "for i in range(4):\n",
        "    numero = int(input('Ingresa un numero: '))\n",
        "    numeros.append(numero)\n",
        "\n",
        "b = numeros[0]\n",
        "\n",
        "for numero in numeros:\n",
        "    if numero != numeros[0]:\n",
        "        ban = False\n",
        "    if numero > b:\n",
        "        b = numero\n",
        "\n",
        "if ban:\n",
        "    print('Numeros iguales')\n",
        "\n",
        "else:\n",
        "    print(f'El numero mayor es :{b}')\n"
      ]
    },
    {
      "cell_type": "code",
      "execution_count": null,
      "id": "b5b4a3d6",
      "metadata": {
        "id": "b5b4a3d6",
        "outputId": "fba945f4-ae0b-4f87-e790-44aff601e2fc"
      },
      "outputs": [
        {
          "name": "stdout",
          "output_type": "stream",
          "text": [
            "ingrese los km recorridos 100\n",
            "ingrese los litros de gasolina: 15\n",
            "EL litro por km recorido es 6.666666666666667\n"
          ]
        }
      ],
      "source": [
        "#Ejercicio 4\n",
        "km = float(input(\"ingrese los km recorridos \"))\n",
        "gasolina = float(input(\"ingrese los litros de gasolina: \"))\n",
        "\n",
        "print(f'EL litro por km recorido es {km/gasolina}')"
      ]
    },
    {
      "cell_type": "code",
      "execution_count": null,
      "id": "02b285ae",
      "metadata": {
        "scrolled": true,
        "id": "02b285ae",
        "outputId": "1e46babb-3706-4403-8272-14c44f9c1361"
      },
      "outputs": [
        {
          "name": "stdout",
          "output_type": "stream",
          "text": [
            "hola hola\n"
          ]
        }
      ],
      "source": [
        "#Nota clase\n",
        "sr='hola'\n",
        "print('hola {}'.format(sr))"
      ]
    },
    {
      "cell_type": "code",
      "execution_count": null,
      "id": "c380dfd6",
      "metadata": {
        "id": "c380dfd6",
        "outputId": "79381cc0-2016-4e31-f86a-b6c2cf92676d"
      },
      "outputs": [
        {
          "name": "stdout",
          "output_type": "stream",
          "text": [
            "Tabla del 1\n",
            "1 * 1 = 1\n",
            "1 * 2 = 2\n",
            "1 * 3 = 3\n",
            "1 * 4 = 4\n",
            "1 * 5 = 5\n",
            "1 * 6 = 6\n",
            "1 * 7 = 7\n",
            "1 * 8 = 8\n",
            "1 * 9 = 9\n",
            "1 * 10 = 10\n",
            "Tabla del 2\n",
            "2 * 1 = 2\n",
            "2 * 2 = 4\n",
            "2 * 3 = 6\n",
            "2 * 4 = 8\n",
            "2 * 5 = 10\n",
            "2 * 6 = 12\n",
            "2 * 7 = 14\n",
            "2 * 8 = 16\n",
            "2 * 9 = 18\n",
            "2 * 10 = 20\n",
            "Tabla del 3\n",
            "3 * 1 = 3\n",
            "3 * 2 = 6\n",
            "3 * 3 = 9\n",
            "3 * 4 = 12\n",
            "3 * 5 = 15\n",
            "3 * 6 = 18\n",
            "3 * 7 = 21\n",
            "3 * 8 = 24\n",
            "3 * 9 = 27\n",
            "3 * 10 = 30\n",
            "Tabla del 4\n",
            "4 * 1 = 4\n",
            "4 * 2 = 8\n",
            "4 * 3 = 12\n",
            "4 * 4 = 16\n",
            "4 * 5 = 20\n",
            "4 * 6 = 24\n",
            "4 * 7 = 28\n",
            "4 * 8 = 32\n",
            "4 * 9 = 36\n",
            "4 * 10 = 40\n",
            "Tabla del 5\n",
            "5 * 1 = 5\n",
            "5 * 2 = 10\n",
            "5 * 3 = 15\n",
            "5 * 4 = 20\n",
            "5 * 5 = 25\n",
            "5 * 6 = 30\n",
            "5 * 7 = 35\n",
            "5 * 8 = 40\n",
            "5 * 9 = 45\n",
            "5 * 10 = 50\n",
            "Tabla del 6\n",
            "6 * 1 = 6\n",
            "6 * 2 = 12\n",
            "6 * 3 = 18\n",
            "6 * 4 = 24\n",
            "6 * 5 = 30\n",
            "6 * 6 = 36\n",
            "6 * 7 = 42\n",
            "6 * 8 = 48\n",
            "6 * 9 = 54\n",
            "6 * 10 = 60\n",
            "Tabla del 7\n",
            "7 * 1 = 7\n",
            "7 * 2 = 14\n",
            "7 * 3 = 21\n",
            "7 * 4 = 28\n",
            "7 * 5 = 35\n",
            "7 * 6 = 42\n",
            "7 * 7 = 49\n",
            "7 * 8 = 56\n",
            "7 * 9 = 63\n",
            "7 * 10 = 70\n",
            "Tabla del 8\n",
            "8 * 1 = 8\n",
            "8 * 2 = 16\n",
            "8 * 3 = 24\n",
            "8 * 4 = 32\n",
            "8 * 5 = 40\n",
            "8 * 6 = 48\n",
            "8 * 7 = 56\n",
            "8 * 8 = 64\n",
            "8 * 9 = 72\n",
            "8 * 10 = 80\n",
            "Tabla del 9\n",
            "9 * 1 = 9\n",
            "9 * 2 = 18\n",
            "9 * 3 = 27\n",
            "9 * 4 = 36\n",
            "9 * 5 = 45\n",
            "9 * 6 = 54\n",
            "9 * 7 = 63\n",
            "9 * 8 = 72\n",
            "9 * 9 = 81\n",
            "9 * 10 = 90\n",
            "Tabla del 10\n",
            "10 * 1 = 10\n",
            "10 * 2 = 20\n",
            "10 * 3 = 30\n",
            "10 * 4 = 40\n",
            "10 * 5 = 50\n",
            "10 * 6 = 60\n",
            "10 * 7 = 70\n",
            "10 * 8 = 80\n",
            "10 * 9 = 90\n",
            "10 * 10 = 100\n"
          ]
        }
      ],
      "source": [
        "#Nota clase\n",
        "for i in range(1,11):\n",
        "    print(f'Tabla del {i}')\n",
        "    for j in range(1,11):\n",
        "        print(f'{i} * {j} = {i*j}')"
      ]
    },
    {
      "cell_type": "code",
      "execution_count": null,
      "id": "d9c9e6cc",
      "metadata": {
        "id": "d9c9e6cc",
        "outputId": "d28d6b09-7148-4ff8-ced4-7c5391700cf7"
      },
      "outputs": [
        {
          "name": "stdout",
          "output_type": "stream",
          "text": [
            "4\n",
            "Python Pythun\n"
          ]
        }
      ],
      "source": [
        "#Nota clase\n",
        "cadena = 'Python'\n",
        "cadena3=cadena.find('o')\n",
        "print(cadena3)\n",
        "cadena2=cadena.replace('o','u')\n",
        "print(cadena,cadena2)"
      ]
    },
    {
      "cell_type": "code",
      "execution_count": null,
      "id": "543b4188",
      "metadata": {
        "id": "543b4188",
        "outputId": "e2395168-68e9-4a8b-c0b6-20ac1464ac4d"
      },
      "outputs": [
        {
          "name": "stdout",
          "output_type": "stream",
          "text": [
            "Ingrese un número: 97\n",
            "El número es primo\n",
            "Ingrese un número: 0\n"
          ]
        }
      ],
      "source": [
        "#Ejercicio 5\n",
        "ban_while = True\n",
        "while ban_while:\n",
        "    num = int(input('Ingrese un número: '))\n",
        "    if num == 0:\n",
        "        ban_while = False\n",
        "        break\n",
        "    ban = True\n",
        "    for i in range(2, num):\n",
        "        if num % i == 0:\n",
        "            ban = False\n",
        "    if ban and num>1:\n",
        "        print('El número es primo')\n",
        "    else:\n",
        "        print('El número no es primo')\n",
        "\n",
        "\n"
      ]
    },
    {
      "cell_type": "code",
      "execution_count": null,
      "id": "2aa25a6a",
      "metadata": {
        "id": "2aa25a6a",
        "outputId": "2d4edcd6-09e2-4b81-ae17-4b000761b046"
      },
      "outputs": [
        {
          "name": "stdout",
          "output_type": "stream",
          "text": [
            "Ingrese un numero: 0\n",
            "El factorial de 0 es igual a 1\n"
          ]
        }
      ],
      "source": [
        "#Ejercicio 6\n",
        "num = int(input('Ingrese un numero: '))\n",
        "suma=1\n",
        "for i in range(1,num+1):\n",
        "    suma *= i\n",
        "    print(suma)\n",
        "\n",
        "print(f'El factorial de {num} es igual a {suma}')\n",
        ""
      ]
    },
    {
      "cell_type": "code",
      "execution_count": null,
      "id": "f2b50602",
      "metadata": {
        "id": "f2b50602",
        "outputId": "626c9529-ce49-4b67-a7e3-88191c8fa275"
      },
      "outputs": [
        {
          "name": "stdout",
          "output_type": "stream",
          "text": [
            "La suma del 1 al 100 es: 5050\n"
          ]
        }
      ],
      "source": [
        "#Ejercicio 7\n",
        "suma = 0\n",
        "for i in range(1,101):\n",
        "    suma += i\n",
        "print(f'La suma del 1 al 100 es: {suma}')\n",
        ""
      ]
    },
    {
      "cell_type": "code",
      "execution_count": null,
      "id": "a0770c4a",
      "metadata": {
        "id": "a0770c4a",
        "outputId": "6db12272-479b-4f33-f261-9d983fb7e7db"
      },
      "outputs": [
        {
          "name": "stdout",
          "output_type": "stream",
          "text": [
            "1,3,5,7,9,11,13,15,17,19,21,23,25,27,29,31,33,35,37,39,41,43,45,47,49,51,53,55,57,59,61,63,65,67,69,71,73,75,77,79,81,83,85,87,89,91,93,95,97,99,\n",
            "Los numeros impares del 1 al 100 son: 50\n"
          ]
        }
      ],
      "source": [
        "#Ejercicio 8\n",
        "num_impar = 0\n",
        "\n",
        "for i in range(1,101):\n",
        "    if i % 2!=0:\n",
        "        print(i, end=',')\n",
        "        num_impar += 1\n",
        "\n",
        "print(f'\\nLos numeros impares del 1 al 100 son: {num_impar}')"
      ]
    },
    {
      "cell_type": "code",
      "execution_count": null,
      "id": "ab98590d",
      "metadata": {
        "id": "ab98590d",
        "outputId": "45732b33-27e9-4d13-aed8-bb11d3763f8a"
      },
      "outputs": [
        {
          "name": "stdout",
          "output_type": "stream",
          "text": [
            "Seleccione una opcion\n",
            "        \t 1.- FactoriaL\n",
            "        \t 2.- Numero primo\n",
            "        \t 3.- Mayor de 4 numeros\n",
            "        \t 4.- Salir\n",
            "1\n",
            "Ingrese un numero: 5\n",
            "1\n",
            "2\n",
            "6\n",
            "24\n",
            "120\n",
            "El factorial de 5 es igual a 120\n",
            "None\n",
            "Seleccione una opcion\n",
            "        \t 1.- FactoriaL\n",
            "        \t 2.- Numero primo\n",
            "        \t 3.- Mayor de 4 numeros\n",
            "        \t 4.- Salir\n",
            "2\n",
            "Ingrese un número: 9\n",
            "El número no es primo\n",
            "Ingrese un número: 0\n",
            "None\n",
            "Seleccione una opcion\n",
            "        \t 1.- FactoriaL\n",
            "        \t 2.- Numero primo\n",
            "        \t 3.- Mayor de 4 numeros\n",
            "        \t 4.- Salir\n",
            "3\n",
            "Ingresa un numero: 1\n",
            "Ingresa un numero: 2\n",
            "Ingresa un numero: 3\n",
            "Ingresa un numero: 4\n",
            "El numero mayor es :4\n",
            "None\n",
            "Seleccione una opcion\n",
            "        \t 1.- FactoriaL\n",
            "        \t 2.- Numero primo\n",
            "        \t 3.- Mayor de 4 numeros\n",
            "        \t 4.- Salir\n",
            "5\n",
            "La opcion 5 no es correcta\n",
            "Seleccione una opcion\n",
            "        \t 1.- FactoriaL\n",
            "        \t 2.- Numero primo\n",
            "        \t 3.- Mayor de 4 numeros\n",
            "        \t 4.- Salir\n",
            "4\n",
            "Fin\n"
          ]
        }
      ],
      "source": [
        "#EJERCICIO 9\n",
        "def facto():\n",
        "    num = int(input('Ingrese un numero: '))\n",
        "    suma=1\n",
        "    for i in range(1,num+1):\n",
        "        suma *= i\n",
        "        print(suma)\n",
        "    print(f'El factorial de {num} es igual a {suma}')\n",
        "\n",
        "def Num_prim():\n",
        "    ban_while = True\n",
        "    while ban_while:\n",
        "        num = int(input('Ingrese un número: '))\n",
        "        if num == 0:\n",
        "            ban_while = False\n",
        "            break\n",
        "        ban = True\n",
        "        for i in range(2, num):\n",
        "            if num % i == 0:\n",
        "                ban = False\n",
        "        if ban and num>1:\n",
        "            print('El número es primo')\n",
        "        else:\n",
        "            print('El número no es primo')\n",
        "\n",
        "def Mayor_4():\n",
        "    numeros = []\n",
        "    ban = True\n",
        "    for i in range(4):\n",
        "        numero = int(input('Ingresa un numero: '))\n",
        "        numeros.append(numero)\n",
        "\n",
        "    b = numeros[0]\n",
        "\n",
        "    for numero in numeros:\n",
        "        if numero != numeros[0]:\n",
        "            ban = False\n",
        "        if numero > b:\n",
        "            b = numero\n",
        "\n",
        "    if ban:\n",
        "        print('Numeros iguales')\n",
        "\n",
        "    else:\n",
        "        print(f'El numero mayor es :{b}')\n",
        "\n",
        "if __name__ == \"__main__\":\n",
        "    ban= True\n",
        "    while ban:\n",
        "        opt = int(input('''Seleccione una opcion\n",
        "        \\t 1.- FactoriaL\n",
        "        \\t 2.- Numero primo\n",
        "        \\t 3.- Mayor de 4 numeros\n",
        "        \\t 4.- Salir\\n'''))\n",
        "        if opt == 1:\n",
        "            print(facto())\n",
        "        elif opt == 2:\n",
        "            print(Num_prim())\n",
        "        elif opt == 3:\n",
        "            print(Mayor_4())\n",
        "        elif opt == 4:\n",
        "            print('Fin')\n",
        "            ban=False\n",
        "        else:\n",
        "            print(f'La opcion {opt} no es correcta')\n",
        "\n",
        ""
      ]
    },
    {
      "cell_type": "code",
      "execution_count": null,
      "id": "24f65e4f",
      "metadata": {
        "id": "24f65e4f",
        "outputId": "e45d24f9-5c50-45a3-dd56-1e5eb4334cbf"
      },
      "outputs": [
        {
          "name": "stdout",
          "output_type": "stream",
          "text": [
            "Seleccione una opcion\n",
            "        \t 1.- FactoriaL\n",
            "        \t 2.- Numero primo\n",
            "        \t 3.- Mayor de 4 numeros\n",
            "        \t 4.- Salir\n",
            "1\n",
            "Ingrese un numero: 5\n",
            "El factorial de 5 es igual a 120\n",
            "None\n",
            "Seleccione una opcion\n",
            "        \t 1.- FactoriaL\n",
            "        \t 2.- Numero primo\n",
            "        \t 3.- Mayor de 4 numeros\n",
            "        \t 4.- Salir\n",
            "4\n",
            "Fin\n"
          ]
        }
      ],
      "source": [
        "#EJERCICIO 9 MEJORADO (SIN INPUT EN LAS FUCIONES)\n",
        "def facto(num):\n",
        "    suma=1\n",
        "    for i in range(1,num+1):\n",
        "        suma *= i\n",
        "\n",
        "    print(f'El factorial de {num} es igual a {suma}')\n",
        "\n",
        "def Num_prim(num):\n",
        "    ban = True\n",
        "    for i in range(2, num):\n",
        "        if num % i == 0:\n",
        "            ban = False\n",
        "    if ban and num>1:\n",
        "        print('El número es primo')\n",
        "    else:\n",
        "        print('El número no es primo')\n",
        "\n",
        "def Mayor_4(numeros):\n",
        "    ban = True\n",
        "    b = numeros[0]\n",
        "\n",
        "    for numero in numeros:\n",
        "        if numero != numeros[0]:\n",
        "            ban = False\n",
        "        if numero > b:\n",
        "            b = numero\n",
        "\n",
        "    if ban:\n",
        "        print('Numeros iguales')\n",
        "\n",
        "    else:\n",
        "        print(f'El numero mayor es :{b}')\n",
        "\n",
        "if __name__ == \"__main__\":\n",
        "    ban= True\n",
        "    while ban:\n",
        "        opt = int(input('''Seleccione una opcion\n",
        "        \\t 1.- FactoriaL\n",
        "        \\t 2.- Numero primo\n",
        "        \\t 3.- Mayor de 4 numeros\n",
        "        \\t 4.- Salir\\n'''))\n",
        "        if opt == 1:\n",
        "            num = int(input('Ingrese un numero: '))\n",
        "            print(facto(num))\n",
        "        elif opt == 2:\n",
        "            num = int(input('Ingrese un número: '))\n",
        "            print(Num_prim(num))\n",
        "        elif opt == 3:\n",
        "            numeros = []\n",
        "            for i in range(4):\n",
        "                numero = int(input('Ingresa un numero: '))\n",
        "                numeros.append(numero)\n",
        "            print(Mayor_4(numeros))\n",
        "        elif opt == 4:\n",
        "            print('Fin')\n",
        "            ban=False\n",
        "        else:\n",
        "            print(f'La opcion {opt} no es correcta')"
      ]
    },
    {
      "cell_type": "code",
      "execution_count": null,
      "id": "0c0f2121",
      "metadata": {
        "id": "0c0f2121",
        "outputId": "1eee95b3-78fa-4f92-df52-e636aa20946d"
      },
      "outputs": [
        {
          "name": "stdout",
          "output_type": "stream",
          "text": [
            "ingrese un numero: 15\n",
            "ingrese un numero: 2\n",
            "El rango es invalido 15 a 2\n",
            "La suma del intervalo es: 0\n"
          ]
        }
      ],
      "source": [
        "a = int(input('ingrese un numero: '))\n",
        "b = int(input('ingrese un numero: '))\n",
        "suma = 0\n",
        "if a<b:\n",
        "    for i in range(a,b):\n",
        "        suma += i\n",
        "else:\n",
        "    print(f'El rango es invalido {a} a {b}')\n",
        "\n",
        "print(f'La suma del intervalo es: {suma}')"
      ]
    },
    {
      "cell_type": "code",
      "execution_count": null,
      "id": "ae690f80",
      "metadata": {
        "id": "ae690f80",
        "outputId": "d647748e-4449-408d-af6d-b0a42ee40fa8"
      },
      "outputs": [
        {
          "name": "stdout",
          "output_type": "stream",
          "text": [
            "ingrese un numero:5\n",
            "ingrese un numero:6\n",
            "ingrese un numero:1\n",
            "Como desea ordenarlo:\n",
            "                    1.-De mayo a menor\n",
            "                    2.-De menor a mayor:\n",
            "                    2\n",
            "[1, 5, 6]\n"
          ]
        }
      ],
      "source": [
        "def menor_mayo(num):\n",
        "    nueva_lista = sorted(num)\n",
        "    return f'{nueva_lista}'\n",
        "\n",
        "def mayor_menor(num):\n",
        "    nueva_lista = sorted(num)\n",
        "    nueva_lista.reverse()\n",
        "    return f'{nueva_lista}'\n",
        "\n",
        "if __name__ == \"__main__\":\n",
        "    num=[]\n",
        "    for i in range(3):\n",
        "        numero = int(input('ingrese un numero:'))\n",
        "        num.append(numero)\n",
        "\n",
        "    opt = int(input('''Como desea ordenarlo:\n",
        "                    1.-De menor a mayor\n",
        "                    2.-De mayo a menor:\n",
        "                    '''))\n",
        "    if opt==1:\n",
        "        print(mayor_menor(num))\n",
        "    elif opt==2:\n",
        "        print(menor_mayo(num))\n",
        "    else:\n",
        "        print('opcion no valida')\n",
        ""
      ]
    },
    {
      "cell_type": "code",
      "execution_count": null,
      "id": "7ff29db3",
      "metadata": {
        "id": "7ff29db3"
      },
      "outputs": [],
      "source": [
        "S"
      ]
    },
    {
      "cell_type": "code",
      "execution_count": null,
      "id": "3fe58f8a",
      "metadata": {
        "id": "3fe58f8a"
      },
      "outputs": [],
      "source": []
    },
    {
      "cell_type": "code",
      "execution_count": null,
      "id": "85892bf2",
      "metadata": {
        "id": "85892bf2"
      },
      "outputs": [],
      "source": []
    },
    {
      "cell_type": "code",
      "execution_count": null,
      "id": "85b352c5",
      "metadata": {
        "id": "85b352c5"
      },
      "outputs": [],
      "source": []
    },
    {
      "cell_type": "code",
      "execution_count": null,
      "id": "2c3cf52b",
      "metadata": {
        "id": "2c3cf52b"
      },
      "outputs": [],
      "source": []
    },
    {
      "cell_type": "code",
      "execution_count": null,
      "id": "8a75a497",
      "metadata": {
        "id": "8a75a497"
      },
      "outputs": [],
      "source": []
    },
    {
      "cell_type": "code",
      "execution_count": null,
      "id": "0cb19a26",
      "metadata": {
        "id": "0cb19a26"
      },
      "outputs": [],
      "source": []
    },
    {
      "cell_type": "code",
      "execution_count": null,
      "id": "892fd34c",
      "metadata": {
        "id": "892fd34c"
      },
      "outputs": [],
      "source": []
    },
    {
      "cell_type": "code",
      "execution_count": null,
      "id": "217f11f5",
      "metadata": {
        "id": "217f11f5"
      },
      "outputs": [],
      "source": []
    },
    {
      "cell_type": "code",
      "execution_count": null,
      "id": "fa4d2d70",
      "metadata": {
        "id": "fa4d2d70"
      },
      "outputs": [],
      "source": []
    },
    {
      "cell_type": "code",
      "execution_count": null,
      "id": "ea6fa337",
      "metadata": {
        "id": "ea6fa337"
      },
      "outputs": [],
      "source": []
    },
    {
      "cell_type": "code",
      "execution_count": null,
      "id": "1059c89f",
      "metadata": {
        "id": "1059c89f"
      },
      "outputs": [],
      "source": []
    },
    {
      "cell_type": "code",
      "execution_count": null,
      "id": "5b83ff0e",
      "metadata": {
        "id": "5b83ff0e"
      },
      "outputs": [],
      "source": []
    },
    {
      "cell_type": "code",
      "execution_count": null,
      "id": "1b65f759",
      "metadata": {
        "id": "1b65f759"
      },
      "outputs": [],
      "source": []
    },
    {
      "cell_type": "code",
      "execution_count": null,
      "id": "587b30ad",
      "metadata": {
        "id": "587b30ad"
      },
      "outputs": [],
      "source": []
    },
    {
      "cell_type": "code",
      "execution_count": null,
      "id": "06544d42",
      "metadata": {
        "id": "06544d42"
      },
      "outputs": [],
      "source": []
    },
    {
      "cell_type": "code",
      "execution_count": null,
      "id": "68c14065",
      "metadata": {
        "id": "68c14065"
      },
      "outputs": [],
      "source": []
    },
    {
      "cell_type": "code",
      "execution_count": null,
      "id": "decd370a",
      "metadata": {
        "id": "decd370a"
      },
      "outputs": [],
      "source": []
    },
    {
      "cell_type": "code",
      "execution_count": null,
      "id": "5782756f",
      "metadata": {
        "id": "5782756f"
      },
      "outputs": [],
      "source": []
    },
    {
      "cell_type": "code",
      "execution_count": null,
      "id": "8fd1f63a",
      "metadata": {
        "id": "8fd1f63a"
      },
      "outputs": [],
      "source": []
    },
    {
      "cell_type": "code",
      "execution_count": null,
      "id": "05333434",
      "metadata": {
        "id": "05333434"
      },
      "outputs": [],
      "source": []
    },
    {
      "cell_type": "code",
      "execution_count": null,
      "id": "7c393820",
      "metadata": {
        "id": "7c393820"
      },
      "outputs": [],
      "source": []
    },
    {
      "cell_type": "code",
      "execution_count": null,
      "id": "b9b6d646",
      "metadata": {
        "id": "b9b6d646"
      },
      "outputs": [],
      "source": []
    },
    {
      "cell_type": "code",
      "execution_count": null,
      "id": "68728fd1",
      "metadata": {
        "id": "68728fd1"
      },
      "outputs": [],
      "source": []
    },
    {
      "cell_type": "code",
      "execution_count": null,
      "id": "c92402b9",
      "metadata": {
        "id": "c92402b9"
      },
      "outputs": [],
      "source": []
    },
    {
      "cell_type": "code",
      "execution_count": null,
      "id": "b8fe5765",
      "metadata": {
        "id": "b8fe5765"
      },
      "outputs": [],
      "source": []
    },
    {
      "cell_type": "code",
      "execution_count": null,
      "id": "74c108e9",
      "metadata": {
        "id": "74c108e9"
      },
      "outputs": [],
      "source": []
    },
    {
      "cell_type": "code",
      "execution_count": null,
      "id": "8adc4151",
      "metadata": {
        "id": "8adc4151"
      },
      "outputs": [],
      "source": []
    },
    {
      "cell_type": "code",
      "execution_count": null,
      "id": "8d72639f",
      "metadata": {
        "id": "8d72639f"
      },
      "outputs": [],
      "source": []
    },
    {
      "cell_type": "code",
      "execution_count": null,
      "id": "4f4d7d0a",
      "metadata": {
        "id": "4f4d7d0a"
      },
      "outputs": [],
      "source": []
    },
    {
      "cell_type": "code",
      "execution_count": null,
      "id": "0fa07284",
      "metadata": {
        "id": "0fa07284"
      },
      "outputs": [],
      "source": []
    },
    {
      "cell_type": "code",
      "execution_count": null,
      "id": "34c2857f",
      "metadata": {
        "id": "34c2857f"
      },
      "outputs": [],
      "source": []
    },
    {
      "cell_type": "code",
      "execution_count": null,
      "id": "a30a0d4c",
      "metadata": {
        "id": "a30a0d4c"
      },
      "outputs": [],
      "source": []
    },
    {
      "cell_type": "code",
      "execution_count": null,
      "id": "878c6f37",
      "metadata": {
        "id": "878c6f37"
      },
      "outputs": [],
      "source": []
    },
    {
      "cell_type": "code",
      "execution_count": null,
      "id": "7ab3505c",
      "metadata": {
        "id": "7ab3505c"
      },
      "outputs": [],
      "source": []
    },
    {
      "cell_type": "code",
      "execution_count": null,
      "id": "caf01fb6",
      "metadata": {
        "id": "caf01fb6"
      },
      "outputs": [],
      "source": []
    },
    {
      "cell_type": "code",
      "execution_count": null,
      "id": "1649fc2f",
      "metadata": {
        "id": "1649fc2f"
      },
      "outputs": [],
      "source": []
    },
    {
      "cell_type": "code",
      "execution_count": null,
      "id": "88b1eb9c",
      "metadata": {
        "id": "88b1eb9c"
      },
      "outputs": [],
      "source": []
    },
    {
      "cell_type": "code",
      "execution_count": null,
      "id": "b3638587",
      "metadata": {
        "id": "b3638587"
      },
      "outputs": [],
      "source": []
    },
    {
      "cell_type": "code",
      "execution_count": null,
      "id": "e66a36be",
      "metadata": {
        "id": "e66a36be"
      },
      "outputs": [],
      "source": []
    }
  ],
  "metadata": {
    "kernelspec": {
      "display_name": "Python 3 (ipykernel)",
      "language": "python",
      "name": "python3"
    },
    "language_info": {
      "codemirror_mode": {
        "name": "ipython",
        "version": 3
      },
      "file_extension": ".py",
      "mimetype": "text/x-python",
      "name": "python",
      "nbconvert_exporter": "python",
      "pygments_lexer": "ipython3",
      "version": "3.11.3"
    },
    "colab": {
      "provenance": [],
      "include_colab_link": true
    }
  },
  "nbformat": 4,
  "nbformat_minor": 5
}