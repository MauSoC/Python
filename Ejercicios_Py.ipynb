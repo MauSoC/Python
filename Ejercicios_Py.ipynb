{
  "cells": [
    {
      "cell_type": "markdown",
      "metadata": {
        "id": "view-in-github",
        "colab_type": "text"
      },
      "source": [
        "<a href=\"https://colab.research.google.com/github/MauSoC/Python/blob/master/Ejercicios_Py.ipynb\" target=\"_parent\"><img src=\"https://colab.research.google.com/assets/colab-badge.svg\" alt=\"Open In Colab\"/></a>"
      ]
    },
    {
      "cell_type": "code",
      "execution_count": null,
      "id": "13faac3e",
      "metadata": {
        "id": "13faac3e",
        "outputId": "8ff16b08-e54d-4ba2-afa4-a40182f91fff"
      },
      "outputs": [
        {
          "name": "stdout",
          "output_type": "stream",
          "text": [
            "Ingresa un numero: 15\n",
            "Ingresa un numero: 12\n",
            "El numero 15 es mayor que 12\n"
          ]
        }
      ],
      "source": [
        "#Carlos Jesus Soriano Mauriño\n",
        "#PREGUNTA 1\n",
        "'''Definir una función max() que tome como argumento dos\n",
        "números y devuelva el mayor de ellos. (Es cierto que python tiene\n",
        "una función max() incorporada no lo hagas con max(),\n",
        "pero hacerla nosotros mismos es un muy buen ejercicio).'''\n",
        "\n",
        "def maxi(num1, num2):\n",
        "    if num1 > num2:\n",
        "        return f'El numero {num1} es mayor que {num2}'\n",
        "    elif num1 == num2:\n",
        "        return f'Los numeros {num1}, {num2} son iguales'\n",
        "    else:\n",
        "        return f'El numero {num2} es mayor que {num1}'\n",
        "\n",
        "\n",
        "def main():\n",
        "    num1 = int(input('Ingresa un numero: '))\n",
        "    num2 = int(input('Ingresa un numero: '))\n",
        "    print(maxi(num1,num2))\n",
        "\n",
        "\n",
        "if __name__ == '__main__':\n",
        "    main()"
      ]
    },
    {
      "cell_type": "code",
      "execution_count": null,
      "id": "e470023d",
      "metadata": {
        "id": "e470023d",
        "outputId": "99546d2e-824f-417c-9936-30e377c436d5"
      },
      "outputs": [
        {
          "name": "stdout",
          "output_type": "stream",
          "text": [
            "Ingresa un numero: 14\n",
            "Ingresa un numero: 12\n",
            "Ingresa un numero: 15\n",
            "El numero 15 es el mayor\n"
          ]
        }
      ],
      "source": [
        "#PREGUNTA 2\n",
        "'''Definir una función max_de_tres(), que tome tres\n",
        "números como argumentos y devuelva el mayor de ellos.'''\n",
        "def max_3_numeros(lista_num):\n",
        "    aux = lista_num[0]\n",
        "    for num in lista_num:\n",
        "        if num > aux:\n",
        "            aux = num\n",
        "    return f'El numero {aux} es el mayor'\n",
        "\n",
        "\n",
        "def main():\n",
        "    num1 = int(input('Ingresa un numero: '))\n",
        "    num2 = int(input('Ingresa un numero: '))\n",
        "    num3 = int(input('Ingresa un numero: '))\n",
        "    lista =[num1,num2,num3]\n",
        "    print(max_3_numeros(lista))\n",
        "\n",
        "\n",
        "if __name__ == '__main__':\n",
        "    main()\n",
        "\n",
        "\n"
      ]
    },
    {
      "cell_type": "code",
      "execution_count": null,
      "id": "65b8d8a7",
      "metadata": {
        "id": "65b8d8a7",
        "outputId": "afcee533-9022-4be4-e38c-7e0d89d84c4f"
      },
      "outputs": [
        {
          "name": "stdout",
          "output_type": "stream",
          "text": [
            "Ingresa una letra: E\n",
            "True\n"
          ]
        }
      ],
      "source": [
        "#PREGUNTA 3\n",
        "'''Escribir una función que tome un carácter y devuelva True\n",
        "si es una vocal, de lo contrario devuelve False (FUNCION DEF)'''\n",
        "\n",
        "def vocal(caracter):\n",
        "    lista_vocales = ['a','e','i','o','u']\n",
        "    return caracter in lista_vocales\n",
        "\n",
        "\n",
        "def main():\n",
        "    caracter = input('Ingresa una letra: ')\n",
        "    print(vocal(caracter.lower()))\n",
        "\n",
        "\n",
        "if __name__ == '__main__':\n",
        "    main()\n",
        "\n"
      ]
    },
    {
      "cell_type": "code",
      "execution_count": 1,
      "id": "21ae464a",
      "metadata": {
        "colab": {
          "base_uri": "https://localhost:8080/"
        },
        "id": "21ae464a",
        "outputId": "c56cbdf9-617d-4d92-fa0f-b3642df89473"
      },
      "outputs": [
        {
          "output_type": "stream",
          "name": "stdout",
          "text": [
            "Ingresa una letra: E\n",
            "True\n"
          ]
        }
      ],
      "source": [
        "#PREGUNTA 3 LAMBDA\n",
        "'''Escribir una función que tome un carácter y devuelva True\n",
        "si es una vocal, de lo contrario devuelve False (lambda)'''\n",
        "def main():\n",
        "    lista_vocales = ['a','e','i','o','u']\n",
        "    caracter = input('Ingresa una letra: ')\n",
        "    vocal = lambda caracter, lista_vocales : caracter in lista_vocales\n",
        "    print(vocal(caracter.lower(),lista_vocales))\n",
        "\n",
        "\n",
        "if __name__ == '__main__':\n",
        "    main()\n",
        ""
      ]
    },
    {
      "cell_type": "code",
      "execution_count": null,
      "id": "ee37f5ca",
      "metadata": {
        "id": "ee37f5ca",
        "outputId": "d1feb791-3ebb-4d36-ca80-c237950346a7"
      },
      "outputs": [
        {
          "name": "stdout",
          "output_type": "stream",
          "text": [
            "Cuantos numeros desea agregar: 4\n",
            "ingrese un numero: 1\n",
            "ingrese un numero: 2\n",
            "ingrese un numero: 3\n",
            "ingrese un numero: 4\n",
            "La suma de la lista [1, 2, 3, 4], es : 10\n",
            "La suma de la lista [1, 2, 3, 4], es : 24\n"
          ]
        }
      ],
      "source": [
        "#PREGUNTA 4\n",
        "'''Escribir una función sum() y una función multip() que sumen\n",
        "y multipliquen respectivamente todos los números de una lista.\n",
        "Por ejemplo: sum([1,2,3,4]) debería devolver 10 y multip([1,2,3,4])\n",
        "debería devolver 24. (2 puntos)'''\n",
        "\n",
        "def sum_lista(list_num):\n",
        "    aux = 0\n",
        "    for num in list_num:\n",
        "        aux += num\n",
        "    return f'La suma de la lista {list_num}, es : {aux}'\n",
        "\n",
        "\n",
        "def mult_lista(list_num):\n",
        "    aux = 1\n",
        "    for num in list_num:\n",
        "        aux *= num\n",
        "    return f'La suma de la lista {list_num}, es : {aux}'\n",
        "\n",
        "def main():\n",
        "    list_num = []\n",
        "    num = int(input('Cuantos numeros desea agregar: '))\n",
        "    for i in range(num):\n",
        "        aux = int(input('ingrese un numero: '))\n",
        "        list_num.append(aux)\n",
        "    print(sum_lista(list_num))\n",
        "    print(mult_lista(list_num))\n",
        "\n",
        "if __name__ == '__main__':\n",
        "    main()\n",
        "\n"
      ]
    },
    {
      "cell_type": "code",
      "execution_count": null,
      "id": "30eb9a91",
      "metadata": {
        "id": "30eb9a91",
        "outputId": "291d9e9c-a44f-4879-e4e5-ed23dcc42b22"
      },
      "outputs": [
        {
          "name": "stdout",
          "output_type": "stream",
          "text": [
            "Cuantos numeros desea agregar: 4\n",
            "ingrese un numero: 1\n",
            "ingrese un numero: 2\n",
            "ingrese un numero: 3\n",
            "ingrese un numero: 4\n",
            "10\n",
            "24\n"
          ]
        }
      ],
      "source": [
        "#PREGUNTA 4 LAMBDA\n",
        "'''Escribir una función sum() y una función multip() que sumen\n",
        "y multipliquen respectivamente todos los números de una lista.\n",
        "Por ejemplo: sum([1,2,3,4]) debería devolver 10 y multip([1,2,3,4])\n",
        "debería devolver 24. (2 puntos) Nota: se que no usamos reduce, pero sin eso\n",
        "no puedo iterar en lambda'''\n",
        "\n",
        "from functools import reduce\n",
        "\n",
        "def main():\n",
        "    list_num = []\n",
        "    x = y = 0\n",
        "    num = int(input('Cuantos numeros desea agregar: '))\n",
        "    for i in range(num):\n",
        "        aux = int(input('ingrese un numero: '))\n",
        "        list_num.append(aux)\n",
        "    sum_lista =reduce(lambda x , y: x + y ,list_num)\n",
        "    print(sum_lista)\n",
        "    x = y = 1 # Reestableci las variables para no declarar mas\n",
        "    mult_lista =reduce(lambda x , y: x * y ,list_num)\n",
        "    print(mult_lista)\n",
        "\n",
        "if __name__ == '__main__':\n",
        "    main()\n",
        ""
      ]
    },
    {
      "cell_type": "code",
      "execution_count": null,
      "id": "496868b2",
      "metadata": {
        "id": "496868b2",
        "outputId": "5c587ae8-21a7-4d16-b35e-b0ce0df4717a"
      },
      "outputs": [
        {
          "name": "stdout",
          "output_type": "stream",
          "text": [
            "Ingrese la cadena que desea invertir: estoy probando\n",
            "La cadena estoy probando, invertida seria odnaborp yotse\n"
          ]
        }
      ],
      "source": [
        "P#PREGUNTA 5\n",
        "'''Definir una función inversa() que calcule la inversión\n",
        "de una cadena. Por ejemplo la cadena \"estoy probando\"\n",
        "debería devolver la cadena \"odnaborp yotse\" (2 puntos) '''\n",
        "\n",
        "def cad_inver(cad):\n",
        "    aux = ''\n",
        "    i = -1\n",
        "    for car in range(len(cad)):\n",
        "        aux += cad[i]\n",
        "        i-=1\n",
        "    return f'La cadena {cad}, invertida seria {aux}'\n",
        "\n",
        "\n",
        "def main():\n",
        "    cad = input(\"Ingrese la cadena que desea invertir: \")\n",
        "    print(cad_inver(cad))\n",
        "\n",
        "\n",
        "if __name__ == '__main__':\n",
        "    main()"
      ]
    },
    {
      "cell_type": "code",
      "execution_count": null,
      "id": "d390b67e",
      "metadata": {
        "id": "d390b67e",
        "outputId": "048b488c-ba3e-466d-d0f7-218ab7460949"
      },
      "outputs": [
        {
          "name": "stdout",
          "output_type": "stream",
          "text": [
            "Cuantas palabras desea agregar: 5\n",
            "ingrese una palabra: carro\n",
            "ingrese una palabra: esterio\n",
            "ingrese una palabra: asterisco\n",
            "ingrese una palabra: astro boy\n",
            "ingrese una palabra: caldo\n",
            "La palabra mas larga tiene 9 letras y es la palabra asterisco\n"
          ]
        }
      ],
      "source": [
        "#PREGUNTA 6\n",
        "'''Escribir una función mas_larga() que tome una lista de\n",
        "palabras y devuelva la mas larga.. (2 puntos) '''\n",
        "\n",
        "def palabra_larga(lista_palab):\n",
        "    aux1 = len(lista_palab[0])\n",
        "    pala_aux = lista_palab[0]\n",
        "    for pal in lista_palab:\n",
        "        if aux1 < len(pal):\n",
        "            aux1 = len(pal)\n",
        "            pala_aux = pal\n",
        "\n",
        "    return f'La palabra mas larga tiene {aux1} letras y es la palabra {pala_aux}'\n",
        "\n",
        "def main():\n",
        "    list_palab = []\n",
        "    num = int(input('Cuantas palabras desea agregar: '))\n",
        "    for i in range(num):\n",
        "        aux = input('ingrese una palabra: ')\n",
        "        list_palab.append(aux)\n",
        "    print(palabra_larga(list_palab))\n",
        "\n",
        "\n",
        "if __name__ == '__main__':\n",
        "    main()"
      ]
    },
    {
      "cell_type": "code",
      "execution_count": null,
      "id": "3ce2c93e",
      "metadata": {
        "id": "3ce2c93e"
      },
      "outputs": [],
      "source": []
    }
  ],
  "metadata": {
    "kernelspec": {
      "display_name": "Python 3 (ipykernel)",
      "language": "python",
      "name": "python3"
    },
    "language_info": {
      "codemirror_mode": {
        "name": "ipython",
        "version": 3
      },
      "file_extension": ".py",
      "mimetype": "text/x-python",
      "name": "python",
      "nbconvert_exporter": "python",
      "pygments_lexer": "ipython3",
      "version": "3.11.3"
    },
    "colab": {
      "provenance": [],
      "include_colab_link": true
    }
  },
  "nbformat": 4,
  "nbformat_minor": 5
}